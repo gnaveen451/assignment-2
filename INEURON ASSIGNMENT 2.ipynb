{
 "cells": [
  {
   "cell_type": "markdown",
   "metadata": {},
   "source": [
    "# Write a function filter_long_words() that takes a list of words and an integer n and returns the list of words that are longer than n."
   ]
  },
  {
   "cell_type": "code",
   "execution_count": 95,
   "metadata": {},
   "outputs": [],
   "source": [
    "def filter_long_words(list,int):\n",
    "    longer_than_n =[]\n",
    "    for i in list:\n",
    "        if len(i)>int:\n",
    "            longer_than_n.append(i)\n",
    "    return longer_than_n"
   ]
  },
  {
   "cell_type": "code",
   "execution_count": 96,
   "metadata": {},
   "outputs": [
    {
     "data": {
      "text/plain": [
       "['naveen', 'gayathri']"
      ]
     },
     "execution_count": 96,
     "metadata": {},
     "output_type": "execute_result"
    }
   ],
   "source": [
    "filter_long_words(['naveen','kumar','gayathri','arnav'],5)"
   ]
  },
  {
   "cell_type": "markdown",
   "metadata": {},
   "source": [
    "# Write a Python Program(with class concepts) to find the area of the triangle using the below formula.\n",
    "# area = (s*(s-a)*(s-b)*(s-c)) ** 0.5\n",
    "# Function to take the length of the sides of triangle from user should be defined in the parent class and function to calculate the area should be defined in subclass."
   ]
  },
  {
   "cell_type": "code",
   "execution_count": 17,
   "metadata": {},
   "outputs": [],
   "source": [
    "class Length:\n",
    "    def __init__(self,side_a, side_b,side_c):\n",
    "        self.side_a=side_a\n",
    "        self.side_b=side_b\n",
    "        self.side_c=side_c\n",
    "class Area(Length):\n",
    "    def area(self):\n",
    "        s=(self.side_a + self.side_b + self.side_c) / 2\n",
    "        k=(s*(s-self.side_a)*(s-self.side_b)*(s-self.side_c))*0.5\n",
    "        return k"
   ]
  },
  {
   "cell_type": "code",
   "execution_count": 18,
   "metadata": {},
   "outputs": [
    {
     "data": {
      "text/plain": [
       "49.21875"
      ]
     },
     "execution_count": 18,
     "metadata": {},
     "output_type": "execute_result"
    }
   ],
   "source": [
    "are=Area(4,5,6)\n",
    "are.area()"
   ]
  },
  {
   "cell_type": "markdown",
   "metadata": {},
   "source": [
    "# Implement a function longestWord() that takes a list of words and returns the longest one."
   ]
  },
  {
   "cell_type": "code",
   "execution_count": 29,
   "metadata": {},
   "outputs": [],
   "source": [
    "# returns one longest word from the list\n",
    "def longestWord(list):\n",
    "    longestword =''\n",
    "    for i in list:\n",
    "        if len(i) > len(longestword):\n",
    "            longestword=i\n",
    "    print(longestword)"
   ]
  },
  {
   "cell_type": "code",
   "execution_count": 30,
   "metadata": {},
   "outputs": [
    {
     "name": "stdout",
     "output_type": "stream",
     "text": [
      "naveenkumar\n"
     ]
    }
   ],
   "source": [
    "longestWord(['naveen','naveenkumar','gummidala'])"
   ]
  },
  {
   "cell_type": "code",
   "execution_count": 37,
   "metadata": {},
   "outputs": [],
   "source": [
    "# returns all longest words from the list\n",
    "\n",
    "def longestWords(list):\n",
    "    longestword =''\n",
    "    listoflongestwords=[]\n",
    "    for i in list:\n",
    "        if len(i) > len(longestword):\n",
    "            longestword =i\n",
    "            int = len(longestword)\n",
    "    for i in list:\n",
    "        if len(i)==int:\n",
    "            listoflongestwords.append(i)\n",
    "    print(listoflongestwords)"
   ]
  },
  {
   "cell_type": "code",
   "execution_count": 39,
   "metadata": {},
   "outputs": [
    {
     "name": "stdout",
     "output_type": "stream",
     "text": [
      "['kumarnaveengummidala', 'naveenkumargummidala']\n"
     ]
    }
   ],
   "source": [
    "longestWords(['naveenkumar','kumarnaveengummidala','kumar','arnavvihas','naveenkumargummidala'])"
   ]
  },
  {
   "cell_type": "markdown",
   "metadata": {},
   "source": [
    "# Implement List comprehensions to produce the following lists. \n",
    " \n",
    "Write List comprehensions to produce the following Lists \n",
    " \n",
    "['A', 'C', 'A', 'D', 'G', 'I', ’L’, ‘ D’] \n",
    " \n",
    "['x', 'xx', 'xxx', 'xxxx', 'y', 'yy', 'yyy', 'yyyy', 'z', 'zz', 'zzz', 'zzzz'] \n",
    " \n",
    "['x', 'y', 'z', 'xx', 'yy', 'zz', 'xx', 'yy', 'zz', 'xxxx', 'yyyy', 'zzzz'] \n",
    " \n",
    "[[2], [3], [4], [3], [4], [5], [4], [5], [6]] \n",
    " \n",
    "[[2, 3, 4, 5], [3, 4, 5, 6], [4, 5, 6, 7], [5, 6, 7, 8]] \n",
    " \n",
    "[(1, 1), (2, 1), (3, 1), (1, 2), (2, 2), (3, 2), (1, 3), (2, 3), (3, 3)] "
   ]
  },
  {
   "cell_type": "code",
   "execution_count": 31,
   "metadata": {},
   "outputs": [
    {
     "data": {
      "text/plain": [
       "[['A', 'C', 'A', 'D', 'G', 'I', 'L', 'D'],\n",
       " ['x',\n",
       "  'xx',\n",
       "  'xxx',\n",
       "  'xxxx',\n",
       "  'y',\n",
       "  'yy',\n",
       "  'yyy',\n",
       "  'yyyy',\n",
       "  'z',\n",
       "  'zz',\n",
       "  'zzz',\n",
       "  'zzzz'],\n",
       " ['x', 'y', 'z', 'xx', 'yy', 'zz', 'xx', 'yy', 'zz', 'xxxx', 'yyyy', 'zzzz'],\n",
       " [[2], [3], [4], [3], [4], [5], [4], [5], [6]],\n",
       " [[2, 3, 4, 5], [3, 4, 5, 6], [4, 5, 6, 7], [5, 6, 7, 8]],\n",
       " [(1, 1), (2, 1), (3, 1), (1, 2), (2, 2), (3, 2), (1, 3), (2, 3), (3, 3)]]"
      ]
     },
     "execution_count": 31,
     "metadata": {},
     "output_type": "execute_result"
    }
   ],
   "source": [
    "l = [['A', 'C', 'A', 'D', 'G', 'I', 'L', 'D'],\n",
    "['x','xx','xxx','xxxx','y','yy','yyy','yyyy','z','zz','zzz','zzzz'],\n",
    "['x', 'y', 'z', 'xx', 'yy', 'zz', 'xx', 'yy', 'zz', 'xxxx', 'yyyy', 'zzzz'], \n",
    "[[2], [3], [4], [3], [4], [5], [4], [5], [6]], \n",
    "[[2, 3, 4, 5], [3, 4, 5, 6], [4, 5, 6, 7], [5, 6, 7, 8]], \n",
    "[(1, 1), (2, 1), (3, 1), (1, 2), (2, 2), (3, 2), (1, 3), (2, 3), (3, 3)]]\n",
    "\n",
    "[i for i in l]"
   ]
  },
  {
   "cell_type": "markdown",
   "metadata": {},
   "source": [
    "# Write a Python Program to implement your own myreduce() function which works exactly like Python's built-in function reduce()"
   ]
  },
  {
   "cell_type": "code",
   "execution_count": 33,
   "metadata": {},
   "outputs": [
    {
     "name": "stdout",
     "output_type": "stream",
     "text": [
      "15\n"
     ]
    }
   ],
   "source": [
    "def myreduce(func,seq):\n",
    "    b=0\n",
    "    for i in seq:\n",
    "        a=i\n",
    "        b=func(a,b)\n",
    "    print (b)\n",
    "def summation(x,y):\n",
    "    return x+y\n",
    "l=[1,2,3,4,5]\n",
    "myreduce(summation,l)"
   ]
  },
  {
   "cell_type": "markdown",
   "metadata": {},
   "source": [
    "# Write a Python program to implement your own myfilter() function which works exactly like Python's built-in function filter()"
   ]
  },
  {
   "cell_type": "code",
   "execution_count": 34,
   "metadata": {},
   "outputs": [
    {
     "name": "stdout",
     "output_type": "stream",
     "text": [
      "[2, 4, 6]\n"
     ]
    }
   ],
   "source": [
    "def myfilter(func,seq):\n",
    "    a=[]\n",
    "    for i in seq:\n",
    "        b=divideby2(i)\n",
    "        if b == True:\n",
    "            a.append(i)\n",
    "    print (a)\n",
    "def divideby2(l):\n",
    "        if l%2==0:\n",
    "            return True\n",
    "myfilter(divideby2,[2,4,5,6])"
   ]
  },
  {
   "cell_type": "code",
   "execution_count": null,
   "metadata": {},
   "outputs": [],
   "source": []
  }
 ],
 "metadata": {
  "kernelspec": {
   "display_name": "Python 3",
   "language": "python",
   "name": "python3"
  },
  "language_info": {
   "codemirror_mode": {
    "name": "ipython",
    "version": 3
   },
   "file_extension": ".py",
   "mimetype": "text/x-python",
   "name": "python",
   "nbconvert_exporter": "python",
   "pygments_lexer": "ipython3",
   "version": "3.7.6"
  }
 },
 "nbformat": 4,
 "nbformat_minor": 4
}
